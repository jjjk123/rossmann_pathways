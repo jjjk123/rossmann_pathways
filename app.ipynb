{
 "metadata": {
  "language_info": {
   "codemirror_mode": {
    "name": "ipython",
    "version": 3
   },
   "file_extension": ".py",
   "mimetype": "text/x-python",
   "name": "python",
   "nbconvert_exporter": "python",
   "pygments_lexer": "ipython3",
   "version": "3.7.10"
  },
  "orig_nbformat": 4,
  "kernelspec": {
   "name": "python3",
   "display_name": "Python 3.7.10 64-bit ('myenv': conda)"
  },
  "interpreter": {
   "hash": "fe6fe56491d14359533496d48f76d8d5eca29ada47f7474479a0f1ba33b27843"
  }
 },
 "nbformat": 4,
 "nbformat_minor": 2,
 "cells": [
  {
   "cell_type": "code",
   "execution_count": 10,
   "metadata": {},
   "outputs": [],
   "source": [
    "from Bio.KEGG import REST\n",
    "import numpy as np\n",
    "import pandas as pd"
   ]
  },
  {
   "cell_type": "code",
   "execution_count": 11,
   "metadata": {},
   "outputs": [],
   "source": [
    "def get_prokaryotes():\n",
    "    organisms = REST.kegg_list('organism').read()\n",
    "    organisms = list(organisms.split('\\n'))\n",
    "    prokaryotes = [organism.split('\\t') for organism in organisms if 'Prokaryotes' in organism]\n",
    "    return prokaryotes"
   ]
  },
  {
   "cell_type": "code",
   "execution_count": 34,
   "metadata": {},
   "outputs": [],
   "source": [
    "def get_pathways():\n",
    "    pathways = REST.kegg_list('pathway').read()\n",
    "    pathways = list(pathways.split('\\n'))\n",
    "    pathways = [pathway.split('\\t') for pathway in pathways]\n",
    "    return pathways"
   ]
  },
  {
   "cell_type": "code",
   "execution_count": 2,
   "metadata": {},
   "outputs": [],
   "source": [
    "def get_enzymes():\n",
    "    enzymes = REST.kegg_list('enzyme').read()\n",
    "    enzymes = list(enzymes.split('\\n'))\n",
    "    enzymes = [enzyme.split('\\t') for enzyme in enzymes]\n",
    "    return enzymes"
   ]
  },
  {
   "cell_type": "code",
   "execution_count": 12,
   "metadata": {},
   "outputs": [],
   "source": [
    "prokaryotes = get_prokaryotes()"
   ]
  },
  {
   "cell_type": "code",
   "execution_count": 13,
   "metadata": {},
   "outputs": [],
   "source": [
    "prokaryotes_ids = [prokaryote[0] for prokaryote in prokaryotes]"
   ]
  },
  {
   "cell_type": "code",
   "execution_count": 14,
   "metadata": {},
   "outputs": [
    {
     "output_type": "execute_result",
     "data": {
      "text/plain": [
       "['T00007',\n",
       " 'eco',\n",
       " 'Escherichia coli K-12 MG1655',\n",
       " 'Prokaryotes;Bacteria;Gammaproteobacteria - Enterobacteria;Escherichia']"
      ]
     },
     "metadata": {},
     "execution_count": 14
    }
   ],
   "source": [
    "prokaryotes[0]"
   ]
  },
  {
   "cell_type": "code",
   "execution_count": 20,
   "metadata": {},
   "outputs": [],
   "source": [
    "# eco genes linked from each of the KEGG pathways\n",
    "eco_pathways = REST.kegg_link('eco', 'pathway').read()\n",
    "eco_pathways = list(eco_pathways.split('\\n'))\n",
    "eco_pathways = [pathway.split('\\t') for pathway in eco_pathways]"
   ]
  },
  {
   "cell_type": "code",
   "execution_count": null,
   "metadata": {},
   "outputs": [],
   "source": [
    "rossmann_enzymes = []"
   ]
  },
  {
   "cell_type": "code",
   "execution_count": 21,
   "metadata": {},
   "outputs": [
    {
     "output_type": "error",
     "ename": "NameError",
     "evalue": "name 'rossmann_enzymes' is not defined",
     "traceback": [
      "\u001b[0;31m---------------------------------------------------------------------------\u001b[0m",
      "\u001b[0;31mNameError\u001b[0m                                 Traceback (most recent call last)",
      "\u001b[0;32m<ipython-input-21-0da3446d9932>\u001b[0m in \u001b[0;36m<module>\u001b[0;34m\u001b[0m\n\u001b[1;32m      1\u001b[0m \u001b[0mrossmann_pathways\u001b[0m \u001b[0;34m=\u001b[0m \u001b[0;34m[\u001b[0m\u001b[0;34m]\u001b[0m\u001b[0;34m\u001b[0m\u001b[0;34m\u001b[0m\u001b[0m\n\u001b[1;32m      2\u001b[0m \u001b[0;32mfor\u001b[0m \u001b[0mpathway\u001b[0m \u001b[0;32min\u001b[0m \u001b[0meco_pathways\u001b[0m\u001b[0;34m:\u001b[0m\u001b[0;34m\u001b[0m\u001b[0;34m\u001b[0m\u001b[0m\n\u001b[0;32m----> 3\u001b[0;31m     \u001b[0;32mif\u001b[0m \u001b[0mpathways\u001b[0m\u001b[0;34m[\u001b[0m\u001b[0;36m1\u001b[0m\u001b[0;34m]\u001b[0m \u001b[0;32min\u001b[0m \u001b[0mrossmann_enzymes\u001b[0m\u001b[0;34m:\u001b[0m\u001b[0;34m\u001b[0m\u001b[0;34m\u001b[0m\u001b[0m\n\u001b[0m\u001b[1;32m      4\u001b[0m         \u001b[0mrossmann_pathways\u001b[0m\u001b[0;34m.\u001b[0m\u001b[0mappend\u001b[0m\u001b[0;34m(\u001b[0m\u001b[0mpathway\u001b[0m\u001b[0;34m)\u001b[0m\u001b[0;34m\u001b[0m\u001b[0;34m\u001b[0m\u001b[0m\n",
      "\u001b[0;31mNameError\u001b[0m: name 'rossmann_enzymes' is not defined"
     ]
    }
   ],
   "source": [
    "rossmann_pathways = []\n",
    "for pathway in eco_pathways:\n",
    "    if pathways[1] in rossmann_enzymes:\n",
    "        rossmann_pathways.append(pathway)"
   ]
  },
  {
   "cell_type": "code",
   "execution_count": 35,
   "metadata": {},
   "outputs": [],
   "source": [
    "pathways = get_pathways()"
   ]
  },
  {
   "cell_type": "code",
   "execution_count": 36,
   "metadata": {},
   "outputs": [
    {
     "output_type": "execute_result",
     "data": {
      "text/plain": [
       "['path:map00010', 'Glycolysis / Gluconeogenesis']"
      ]
     },
     "metadata": {},
     "execution_count": 36
    }
   ],
   "source": [
    "pathways[0]"
   ]
  },
  {
   "cell_type": "code",
   "execution_count": 3,
   "metadata": {},
   "outputs": [],
   "source": [
    "enzymes = get_enzymes()\n",
    "#7853 enzymes"
   ]
  },
  {
   "cell_type": "code",
   "execution_count": 4,
   "metadata": {},
   "outputs": [
    {
     "output_type": "execute_result",
     "data": {
      "text/plain": [
       "['ec:1.1.1.1',\n",
       " 'alcohol dehydrogenase; aldehyde reductase; ADH; alcohol dehydrogenase (NAD); aliphatic alcohol dehydrogenase; ethanol dehydrogenase; NAD-dependent alcohol dehydrogenase; NAD-specific aromatic alcohol dehydrogenase; NADH-alcohol dehydrogenase; NADH-aldehyde dehydrogenase; primary alcohol dehydrogenase; yeast alcohol dehydrogenase']"
      ]
     },
     "metadata": {},
     "execution_count": 4
    }
   ],
   "source": [
    "enzymes[0]"
   ]
  },
  {
   "cell_type": "code",
   "execution_count": null,
   "metadata": {},
   "outputs": [],
   "source": [
    "# https://doi.org/10.1371/journal.pbio.1002396"
   ]
  },
  {
   "cell_type": "code",
   "execution_count": 29,
   "metadata": {},
   "outputs": [],
   "source": [
    "rossmann_enzymes = pd.read_csv('S1Data.csv', delimiter=';')\n",
    "rossmann_enzymes = np.array(list(rossmann_enzymes['PDB']))\n",
    "rossmann_enzymes = [e for e in rossmann_enzymes if e != 'nan']"
   ]
  },
  {
   "cell_type": "code",
   "execution_count": 4,
   "metadata": {},
   "outputs": [],
   "source": [
    "pathways = REST.kegg_link('enzyme', 'map00010').read()\n",
    "pathways = list(pathways.split('\\n'))\n",
    "pathways = [pathway.split('\\t') for pathway in pathways]"
   ]
  },
  {
   "cell_type": "code",
   "execution_count": 5,
   "metadata": {},
   "outputs": [
    {
     "output_type": "execute_result",
     "data": {
      "text/plain": [
       "['path:map00010', 'ec:1.1.1.1']"
      ]
     },
     "metadata": {},
     "execution_count": 5
    }
   ],
   "source": [
    "pathways[0]"
   ]
  },
  {
   "cell_type": "code",
   "execution_count": 6,
   "metadata": {},
   "outputs": [],
   "source": [
    "enzymes = REST.kegg_link('pathway', 'ec:1.1.1.1').read()\n",
    "enzymes = list(enzymes.split('\\n'))\n",
    "enzymes = [enzyme.split('\\t') for enzyme in enzymes]"
   ]
  },
  {
   "cell_type": "code",
   "execution_count": 7,
   "metadata": {},
   "outputs": [
    {
     "output_type": "execute_result",
     "data": {
      "text/plain": [
       "['ec:1.1.1.1', 'path:map00010']"
      ]
     },
     "metadata": {},
     "execution_count": 7
    }
   ],
   "source": [
    "enzymes[0]"
   ]
  },
  {
   "cell_type": "code",
   "execution_count": 8,
   "metadata": {},
   "outputs": [],
   "source": [
    "kos = REST.kegg_link('ko', 'map00010').read()\n",
    "kos = list(kos.split('\\n'))\n",
    "kos = [ko.split('\\t') for ko in kos]\n",
    "genes = REST.kegg_link('genes', 'ko:K00001').read()\n",
    "genes = list(genes.split('\\n'))\n",
    "genes = [gene.split('\\t') for gene in genes]"
   ]
  },
  {
   "cell_type": "code",
   "execution_count": 10,
   "metadata": {},
   "outputs": [
    {
     "output_type": "execute_result",
     "data": {
      "text/plain": [
       "['ko:K00001', 'der:6540581']"
      ]
     },
     "metadata": {},
     "execution_count": 10
    }
   ],
   "source": [
    "genes[1]"
   ]
  },
  {
   "cell_type": "code",
   "execution_count": null,
   "metadata": {},
   "outputs": [],
   "source": []
  }
 ]
}