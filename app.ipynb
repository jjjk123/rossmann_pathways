{
 "metadata": {
  "language_info": {
   "codemirror_mode": {
    "name": "ipython",
    "version": 3
   },
   "file_extension": ".py",
   "mimetype": "text/x-python",
   "name": "python",
   "nbconvert_exporter": "python",
   "pygments_lexer": "ipython3",
   "version": "3.7.10"
  },
  "orig_nbformat": 4,
  "kernelspec": {
   "name": "python3",
   "display_name": "Python 3.7.10 64-bit ('myenv': conda)"
  },
  "interpreter": {
   "hash": "fe6fe56491d14359533496d48f76d8d5eca29ada47f7474479a0f1ba33b27843"
  }
 },
 "nbformat": 4,
 "nbformat_minor": 2,
 "cells": [
  {
   "cell_type": "code",
   "execution_count": 1,
   "source": [
    "from Bio.KEGG import REST\n",
    "import pandas as pd"
   ],
   "outputs": [],
   "metadata": {}
  },
  {
   "cell_type": "code",
   "execution_count": 3,
   "source": [
    "def get_kos(pathway):\n",
    "    kos = REST.kegg_link('ko', pathway).read()\n",
    "    kos = list(kos.split('\\n'))\n",
    "    kos = [ko.split('\\t')[1] for ko in kos[:-1]]\n",
    "    return kos[:10]"
   ],
   "outputs": [],
   "metadata": {}
  },
  {
   "cell_type": "code",
   "execution_count": 11,
   "source": [
    "def get_genes(ko):\n",
    "    genes = REST.kegg_link('genes', ko).read()\n",
    "    genes = list(genes.split('\\n'))\n",
    "    genes = [gene.split('\\t')[1] for gene in genes[:-1] if is_prokaryotic(gene)]\n",
    "    return genes[:10]"
   ],
   "outputs": [],
   "metadata": {}
  },
  {
   "cell_type": "code",
   "execution_count": 4,
   "source": [
    "def is_prokaryotic(gene):\n",
    "    # if gene[:2] in prokaryotes_codes:\n",
    "    if gene[:2] == 'dme':\n",
    "        return True "
   ],
   "outputs": [],
   "metadata": {}
  },
  {
   "cell_type": "code",
   "execution_count": 2,
   "source": [
    "pathways = REST.kegg_list('pathway').read()\n",
    "pathways = list(pathways.split('\\n'))\n",
    "pathways = [pathway.split('\\t')[0] for pathway in pathways]"
   ],
   "outputs": [],
   "metadata": {}
  },
  {
   "cell_type": "code",
   "execution_count": 6,
   "source": [
    "organisms = REST.kegg_list('organism').read()\n",
    "organisms = list(organisms.split('\\n'))\n",
    "prokaryotes_codes = [organism.split('\\t')[1] for organism in organisms if 'Prokaryotes' in organism]"
   ],
   "outputs": [],
   "metadata": {}
  },
  {
   "cell_type": "code",
   "execution_count": 10,
   "source": [
    "genes[:10]"
   ],
   "outputs": [
    {
     "output_type": "execute_result",
     "data": {
      "text/plain": [
       "[]"
      ]
     },
     "metadata": {},
     "execution_count": 10
    }
   ],
   "metadata": {}
  },
  {
   "cell_type": "code",
   "execution_count": 9,
   "source": [
    "prokaryotes_codes[:3]"
   ],
   "outputs": [
    {
     "output_type": "execute_result",
     "data": {
      "text/plain": [
       "['eco', 'ecj', 'ecd']"
      ]
     },
     "metadata": {},
     "execution_count": 9
    }
   ],
   "metadata": {}
  },
  {
   "cell_type": "code",
   "execution_count": 12,
   "source": [
    "data = {}\n",
    "for pathway in pathways[:2]:\n",
    "    print(pathway)\n",
    "    kos = get_kos(pathway)\n",
    "    for ko in kos:\n",
    "        genes = get_genes(ko)\n",
    "        print(genes)\n",
    "    data.update({ko: genes})"
   ],
   "outputs": [
    {
     "output_type": "stream",
     "name": "stdout",
     "text": [
      "path:map00010\n",
      "['dme:Dmel_CG3481', 'der:6540581', 'dse:6611292', 'dsi:Dsimw501_GD23968', 'dya:Dyak_GE19037', 'dya:Dyak_GE10683', 'dan:6492907', 'dsr:110186092', 'dpo:Dpse_GA17214', 'dpe:6593284']\n",
      "['hsa:10327', 'ptr:741418', 'pps:100990701', 'ggo:101124639', 'pon:100173796', 'nle:100581229', 'mcc:693380', 'mcf:102143796', 'csab:103224909', 'rro:104662135']\n",
      "['hsa:160287', 'hsa:92483', 'hsa:3939', 'hsa:3945', 'hsa:3948', 'ptr:466460', 'ptr:451063', 'ptr:747141', 'ptr:451064', 'ptr:465337']\n",
      "['dtx:ATSB10_32210', 'dko:I596_887', 'rbd:ALSL_0372', 'gho:AL542_17210', 'gho:AL542_11380', 'pae:PA1982', 'paev:N297_2045', 'paei:N296_2045', 'pau:PA14_38860', 'pap:PSPA7_3312']\n",
      "['hsa:128', 'ptr:743928', 'pps:100969269', 'ggo:101133633', 'pon:100450815', 'nle:100592499', 'mcc:707258', 'mcf:102122307', 'csab:103236693', 'rro:104664094']\n",
      "['hsa:217', 'hsa:224', 'hsa:219', 'ptr:464931', 'ptr:454505', 'ptr:107967644', 'pps:100969562', 'pps:100970208', 'pps:100981893', 'ggo:101130617']\n",
      "['hsa:221', 'hsa:222', 'hsa:218', 'ptr:466685', 'ptr:468186', 'ptr:747335', 'pps:100970713', 'pps:100993681', 'pps:100992841', 'ggo:101131216']\n",
      "['ath:AT2G24270', 'aly:9314809', 'crb:17888517', 'csat:104752064', 'csat:104702944', 'csat:104713876', 'eus:EUTSA_v10000267mg', 'brp:103842267', 'brp:103864532', 'bna:106368617']\n",
      "['hsa:2597', 'ptr:451783', 'pps:100991849', 'pps:100978702', 'ggo:101154517', 'ggo:101137912', 'ggo:109026476', 'pon:100172694', 'nle:100583761', 'nle:115832285']\n",
      "['lve:103072024', 'pxy:105396912', 'eco:b3588', 'ecj:JW3561', 'ecd:ECDH10B_3769', 'ebw:BWG_3278', 'ecok:ECMDS42_3025', 'ece:Z5008', 'ecs:ECs4464', 'ecf:ECH74115_4958']\n",
      "path:map00020\n",
      "['gsl:Gasu_29530', 'ccp:CHC_T00008733001', 'ccp:CHC_T00009350001', 'ddi:DDB_G0292600', 'dpp:DICPUDRAFT_91190', 'dfa:DFA_12066', 'acan:ACA1_152960', 'ngr:NAEGRDRAFT_77259', 'ngr:NAEGRDRAFT_60960', 'eco:b3236']\n",
      "['hsa:4190', 'ptr:459271', 'pps:100977785', 'ggo:101134761', 'pon:100454132', 'nle:100581689', 'mcc:694703', 'mcf:101865736', 'csab:103220175', 'rro:104669214']\n",
      "['hsa:4191', 'ptr:463484', 'pps:100991112', 'ggo:101137732', 'pon:100174759', 'nle:100602020', 'mcc:719983', 'mcf:101867276', 'csab:103246656', 'rro:104663627']\n",
      "['hsa:3420', 'hsa:3421', 'hsa:3419', 'ptr:453565', 'ptr:458048', 'ptr:741179', 'pps:100987648', 'pps:100968720', 'pps:100972968', 'ggo:101135027']\n",
      "['hsa:3417', 'hsa:3418', 'ptr:460113', 'ptr:453645', 'pps:100980780', 'pps:100979264', 'ggo:101151172', 'ggo:101150530', 'pon:100441867', 'pon:100171634']\n",
      "['pcad:112063215', 'pfa:PF3D7_0616800', 'pfh:PFHG_00586', 'pyo:PY17X_1117500', 'pcb:PCHAS_111590', 'pbe:PBANKA_1116300', 'pkn:PKNH_1133200', 'pvx:PVX_113980', 'pcy:PCYB_114030', 'tan:TA18100']\n",
      "['hsa:5161', 'hsa:5160', 'ptr:471255', 'ptr:465525', 'pps:100993455', 'pps:100984797', 'ggo:101128322', 'ggo:101125835', 'pon:100174745', 'pon:100443483']\n",
      "['hsa:5162', 'ptr:470832', 'pps:100990112', 'ggo:101134780', 'pon:100171772', 'nle:100606854', 'mcc:574227', 'mcf:102140991', 'csab:103227812', 'rro:104660196']\n"
     ]
    }
   ],
   "metadata": {}
  },
  {
   "cell_type": "code",
   "execution_count": null,
   "source": [
    "data"
   ],
   "outputs": [
    {
     "output_type": "execute_result",
     "data": {
      "text/plain": [
       "{'ko:K00138': [], 'ko:K00164': []}"
      ]
     },
     "metadata": {},
     "execution_count": 20
    }
   ],
   "metadata": {}
  },
  {
   "cell_type": "code",
   "execution_count": null,
   "source": [
    "df = pd.DataFrame(data)\n",
    "# columns = [('path:map00010','ko:K00001'), ('path:map00020','ko:K00002')]\n",
    "# df.columns = pd.MultiIndex.from_tuples(columns)"
   ],
   "outputs": [],
   "metadata": {}
  },
  {
   "cell_type": "code",
   "execution_count": null,
   "source": [
    "df"
   ],
   "outputs": [
    {
     "output_type": "execute_result",
     "data": {
      "text/plain": [
       "                                  path:map00010  \\\n",
       "ko:K00121  [hsa:128, ptr:743928, pps:100969269]   \n",
       "ko:K00031                                   NaN   \n",
       "\n",
       "                              path:map00020  \n",
       "ko:K00121                               NaN  \n",
       "ko:K00031  [hsa:3417, hsa:3418, ptr:460113]  "
      ],
      "text/html": [
       "<div>\n",
       "<style scoped>\n",
       "    .dataframe tbody tr th:only-of-type {\n",
       "        vertical-align: middle;\n",
       "    }\n",
       "\n",
       "    .dataframe tbody tr th {\n",
       "        vertical-align: top;\n",
       "    }\n",
       "\n",
       "    .dataframe thead th {\n",
       "        text-align: right;\n",
       "    }\n",
       "</style>\n",
       "<table border=\"1\" class=\"dataframe\">\n",
       "  <thead>\n",
       "    <tr style=\"text-align: right;\">\n",
       "      <th></th>\n",
       "      <th>path:map00010</th>\n",
       "      <th>path:map00020</th>\n",
       "    </tr>\n",
       "  </thead>\n",
       "  <tbody>\n",
       "    <tr>\n",
       "      <th>ko:K00121</th>\n",
       "      <td>[hsa:128, ptr:743928, pps:100969269]</td>\n",
       "      <td>NaN</td>\n",
       "    </tr>\n",
       "    <tr>\n",
       "      <th>ko:K00031</th>\n",
       "      <td>NaN</td>\n",
       "      <td>[hsa:3417, hsa:3418, ptr:460113]</td>\n",
       "    </tr>\n",
       "  </tbody>\n",
       "</table>\n",
       "</div>"
      ]
     },
     "metadata": {},
     "execution_count": 51
    }
   ],
   "metadata": {}
  }
 ]
}