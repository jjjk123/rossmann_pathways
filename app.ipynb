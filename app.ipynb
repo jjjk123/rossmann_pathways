{
 "metadata": {
  "language_info": {
   "codemirror_mode": {
    "name": "ipython",
    "version": 3
   },
   "file_extension": ".py",
   "mimetype": "text/x-python",
   "name": "python",
   "nbconvert_exporter": "python",
   "pygments_lexer": "ipython3",
   "version": "3.7.10"
  },
  "orig_nbformat": 4,
  "kernelspec": {
   "name": "python3",
   "display_name": "Python 3.7.10 64-bit ('myenv': conda)"
  },
  "interpreter": {
   "hash": "fe6fe56491d14359533496d48f76d8d5eca29ada47f7474479a0f1ba33b27843"
  }
 },
 "nbformat": 4,
 "nbformat_minor": 2,
 "cells": [
  {
   "cell_type": "code",
   "execution_count": 14,
   "metadata": {},
   "outputs": [],
   "source": [
    "# find pathways in prokaryotes\n",
    "# get kos for each pathway\n",
    "# get enzymes for each pathway\n",
    "# get enzyme sequences -> rossmann_toolbox"
   ]
  },
  {
   "cell_type": "code",
   "execution_count": 15,
   "metadata": {},
   "outputs": [],
   "source": [
    "from Bio.KEGG import REST"
   ]
  },
  {
   "cell_type": "code",
   "execution_count": 16,
   "metadata": {},
   "outputs": [],
   "source": [
    "# getting 10 prokaryotes\n",
    "organisms = REST.kegg_list('organism').read()\n",
    "organisms = list(organisms.split('\\n'))\n",
    "prokaryotes = [organism.split('\\t') for organism in organisms if 'Prokaryotes' in organism]"
   ]
  },
  {
   "cell_type": "code",
   "execution_count": 17,
   "metadata": {},
   "outputs": [],
   "source": [
    "prokaryotes = prokaryotes[:2]"
   ]
  },
  {
   "cell_type": "code",
   "execution_count": 18,
   "metadata": {},
   "outputs": [
    {
     "output_type": "execute_result",
     "data": {
      "text/plain": [
       "[['T00007',\n",
       "  'eco',\n",
       "  'Escherichia coli K-12 MG1655',\n",
       "  'Prokaryotes;Bacteria;Gammaproteobacteria - Enterobacteria;Escherichia'],\n",
       " ['T00068',\n",
       "  'ecj',\n",
       "  'Escherichia coli K-12 W3110',\n",
       "  'Prokaryotes;Bacteria;Gammaproteobacteria - Enterobacteria;Escherichia']]"
      ]
     },
     "metadata": {},
     "execution_count": 18
    }
   ],
   "source": [
    "prokaryotes"
   ]
  },
  {
   "cell_type": "code",
   "execution_count": 19,
   "metadata": {},
   "outputs": [],
   "source": [
    "# gettng prokaryotes ids\n",
    "prokaryotes_codes = [prokaryote[1] for prokaryote in prokaryotes]"
   ]
  },
  {
   "cell_type": "code",
   "execution_count": 20,
   "metadata": {},
   "outputs": [
    {
     "output_type": "execute_result",
     "data": {
      "text/plain": [
       "['eco', 'ecj']"
      ]
     },
     "metadata": {},
     "execution_count": 20
    }
   ],
   "source": [
    "prokaryotes_codes"
   ]
  },
  {
   "cell_type": "code",
   "execution_count": 21,
   "metadata": {},
   "outputs": [],
   "source": [
    "# getting pathways for each prokaryote\n",
    "prok_pathways = {}\n",
    "for prokaryote_code in prokaryotes_codes:\n",
    "    pathways = REST.kegg_list('pathway', prokaryote_code).read()\n",
    "    pathways = list(pathways.split('\\n'))\n",
    "    pathways = [pathway.split('\\t')[0] for pathway in pathways]\n",
    "    prok_pathways.update({prokaryote_code : pathways})"
   ]
  },
  {
   "cell_type": "code",
   "execution_count": 22,
   "metadata": {},
   "outputs": [],
   "source": [
    "prok_pathways['eco'] = prok_pathways['eco'][:2]\n",
    "prok_pathways['ecj'] = prok_pathways['ecj'][:2]"
   ]
  },
  {
   "cell_type": "code",
   "execution_count": 23,
   "metadata": {},
   "outputs": [
    {
     "output_type": "execute_result",
     "data": {
      "text/plain": [
       "{'eco': ['path:eco00010', 'path:eco00020'],\n",
       " 'ecj': ['path:ecj00010', 'path:ecj00020']}"
      ]
     },
     "metadata": {},
     "execution_count": 23
    }
   ],
   "source": [
    "prok_pathways"
   ]
  },
  {
   "cell_type": "code",
   "execution_count": 24,
   "metadata": {},
   "outputs": [],
   "source": [
    "kos = REST.kegg_link('ko', 'path:eco00010').read()\n",
    "kos = list(kos.split('\\n'))\n",
    "kos = [ko.split('\\t') for ko in kos]"
   ]
  },
  {
   "cell_type": "code",
   "execution_count": 25,
   "metadata": {},
   "outputs": [],
   "source": [
    "seq = REST.kegg_get('eco:b0114', 'aaseq').read()\n",
    "seq = list(seq.split('\\n'))\n",
    "seq = ''.join(seq[1:-1])"
   ]
  },
  {
   "cell_type": "code",
   "execution_count": 26,
   "metadata": {},
   "outputs": [
    {
     "output_type": "execute_result",
     "data": {
      "text/plain": [
       "'MSERFPNDVDPIETRDWLQAIESVIREEGVERAQYLIDQLLAEARKGGVNVAAGTGISNYINTI'"
      ]
     },
     "metadata": {},
     "execution_count": 26
    }
   ],
   "source": [
    "seq[:64]"
   ]
  },
  {
   "cell_type": "code",
   "execution_count": 27,
   "metadata": {},
   "outputs": [],
   "source": [
    "genes = REST.kegg_link('eco', 'path:eco00010').read()\n",
    "genes = list(genes.split('\\n'))\n",
    "genes = [gene.split('\\t') for gene in genes]"
   ]
  },
  {
   "cell_type": "code",
   "execution_count": 28,
   "metadata": {},
   "outputs": [
    {
     "output_type": "execute_result",
     "data": {
      "text/plain": [
       "[['path:eco00010', 'eco:b0114'],\n",
       " ['path:eco00010', 'eco:b0115'],\n",
       " ['path:eco00010', 'eco:b0116'],\n",
       " ['path:eco00010', 'eco:b0325'],\n",
       " ['path:eco00010', 'eco:b0356'],\n",
       " ['path:eco00010', 'eco:b0688'],\n",
       " ['path:eco00010', 'eco:b0755'],\n",
       " ['path:eco00010', 'eco:b0756'],\n",
       " ['path:eco00010', 'eco:b1002'],\n",
       " ['path:eco00010', 'eco:b1101'],\n",
       " ['path:eco00010', 'eco:b1241'],\n",
       " ['path:eco00010', 'eco:b1378'],\n",
       " ['path:eco00010', 'eco:b1478'],\n",
       " ['path:eco00010', 'eco:b1621'],\n",
       " ['path:eco00010', 'eco:b1676'],\n",
       " ['path:eco00010', 'eco:b1702'],\n",
       " ['path:eco00010', 'eco:b1723'],\n",
       " ['path:eco00010', 'eco:b1734'],\n",
       " ['path:eco00010', 'eco:b1779'],\n",
       " ['path:eco00010', 'eco:b1780'],\n",
       " ['path:eco00010', 'eco:b1854'],\n",
       " ['path:eco00010', 'eco:b2097'],\n",
       " ['path:eco00010', 'eco:b2388'],\n",
       " ['path:eco00010', 'eco:b2417'],\n",
       " ['path:eco00010', 'eco:b2453'],\n",
       " ['path:eco00010', 'eco:b2715'],\n",
       " ['path:eco00010', 'eco:b2716'],\n",
       " ['path:eco00010', 'eco:b2779'],\n",
       " ['path:eco00010', 'eco:b2901'],\n",
       " ['path:eco00010', 'eco:b2925'],\n",
       " ['path:eco00010', 'eco:b2926'],\n",
       " ['path:eco00010', 'eco:b2930'],\n",
       " ['path:eco00010', 'eco:b3403'],\n",
       " ['path:eco00010', 'eco:b3588'],\n",
       " ['path:eco00010', 'eco:b3589'],\n",
       " ['path:eco00010', 'eco:b3612'],\n",
       " ['path:eco00010', 'eco:b3721'],\n",
       " ['path:eco00010', 'eco:b3879'],\n",
       " ['path:eco00010', 'eco:b3885'],\n",
       " ['path:eco00010', 'eco:b3916'],\n",
       " ['path:eco00010', 'eco:b3919'],\n",
       " ['path:eco00010', 'eco:b3925'],\n",
       " ['path:eco00010', 'eco:b4025'],\n",
       " ['path:eco00010', 'eco:b4069'],\n",
       " ['path:eco00010', 'eco:b4232'],\n",
       " ['path:eco00010', 'eco:b4269'],\n",
       " ['path:eco00010', 'eco:b4395'],\n",
       " ['']]"
      ]
     },
     "metadata": {},
     "execution_count": 28
    }
   ],
   "source": [
    "genes"
   ]
  },
  {
   "cell_type": "code",
   "execution_count": 29,
   "metadata": {},
   "outputs": [],
   "source": [
    "import pandas as pd"
   ]
  },
  {
   "cell_type": "code",
   "execution_count": 30,
   "metadata": {},
   "outputs": [],
   "source": [
    "prokaryotes = [('eco')]"
   ]
  },
  {
   "cell_type": "code",
   "execution_count": 31,
   "metadata": {},
   "outputs": [],
   "source": [
    "pathways = ['path:eco00010', 'path:eco00020']"
   ]
  },
  {
   "cell_type": "code",
   "execution_count": 32,
   "metadata": {},
   "outputs": [],
   "source": [
    "data = {\n",
    "    ''\n",
    "}"
   ]
  },
  {
   "cell_type": "code",
   "execution_count": 1,
   "metadata": {},
   "outputs": [],
   "source": [
    "# df = pd.DataFrame(data, columns = pathways, index = ['eco:b0114'])\n",
    "# df.style.set_caption('eco')"
   ]
  },
  {
   "cell_type": "code",
   "execution_count": 80,
   "metadata": {},
   "outputs": [
    {
     "output_type": "execute_result",
     "data": {
      "text/plain": [
       "              path:eco00010 path:eco00020\n",
       "eco  [eco:b0114, eco:b0115]        [a, b]\n",
       "ecj                  [c, d]        [e, f]"
      ],
      "text/html": "<div>\n<style scoped>\n    .dataframe tbody tr th:only-of-type {\n        vertical-align: middle;\n    }\n\n    .dataframe tbody tr th {\n        vertical-align: top;\n    }\n\n    .dataframe thead th {\n        text-align: right;\n    }\n</style>\n<table border=\"1\" class=\"dataframe\">\n  <thead>\n    <tr style=\"text-align: right;\">\n      <th></th>\n      <th>path:eco00010</th>\n      <th>path:eco00020</th>\n    </tr>\n  </thead>\n  <tbody>\n    <tr>\n      <th>eco</th>\n      <td>[eco:b0114, eco:b0115]</td>\n      <td>[a, b]</td>\n    </tr>\n    <tr>\n      <th>ecj</th>\n      <td>[c, d]</td>\n      <td>[e, f]</td>\n    </tr>\n  </tbody>\n</table>\n</div>"
     },
     "metadata": {},
     "execution_count": 80
    }
   ],
   "source": [
    "df"
   ]
  },
  {
   "cell_type": "code",
   "execution_count": 4,
   "metadata": {},
   "outputs": [],
   "source": [
    "#kos"
   ]
  },
  {
   "cell_type": "code",
   "execution_count": 44,
   "metadata": {},
   "outputs": [],
   "source": [
    "eco_kos = REST.kegg_link('ko', 'eco').read()\n",
    "eco_kos = list(eco_kos.split('\\n'))\n",
    "eco_kos = [ko.split('\\t') for ko in eco_kos]"
   ]
  },
  {
   "cell_type": "code",
   "execution_count": 46,
   "metadata": {},
   "outputs": [],
   "source": [
    "ecj_kos = REST.kegg_link('ko', 'ecj').read()\n",
    "ecj_kos = list(ecj_kos.split('\\n'))\n",
    "ecj_kos = [ko.split('\\t') for ko in ecj_kos]"
   ]
  },
  {
   "cell_type": "code",
   "execution_count": 54,
   "metadata": {},
   "outputs": [
    {
     "output_type": "execute_result",
     "data": {
      "text/plain": [
       "['eco:b3958', 'ko:K00145']"
      ]
     },
     "metadata": {},
     "execution_count": 54
    }
   ],
   "source": [
    "eco_kos[1]"
   ]
  },
  {
   "cell_type": "code",
   "execution_count": 56,
   "metadata": {
    "tags": []
   },
   "outputs": [
    {
     "output_type": "stream",
     "name": "stdout",
     "text": [
      "ko:K02410\nko:K02411\n['ecj:JW1925', [...]]\n"
     ]
    }
   ],
   "source": [
    "for ko in ecj_kos[:3]:\n",
    "    print(ko[1])"
   ]
  },
  {
   "cell_type": "code",
   "execution_count": null,
   "metadata": {},
   "outputs": [],
   "source": []
  }
 ]
}